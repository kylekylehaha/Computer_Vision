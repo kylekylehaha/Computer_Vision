{
 "cells": [
  {
   "cell_type": "markdown",
   "source": [
    "# Computer Vision Homework 3: Big vs Small Models"
   ],
   "metadata": {
    "id": "D0MrEVoVmhOy"
   }
  },
  {
   "cell_type": "markdown",
   "source": [
    "## Brief"
   ],
   "metadata": {
    "id": "U0hnrUlYrGWS"
   }
  },
  {
   "cell_type": "markdown",
   "source": [
    "Due date: Nov 16, 2022\n",
    "\n",
    "Required files: `homework-3.ipynb`, `report.pdf`\n",
    "\n",
    "To download the jupyter notebook from colab, you can refer to the colab tutorial we gave.\n"
   ],
   "metadata": {
    "id": "j_zuWZp5rSyN"
   }
  },
  {
   "cell_type": "markdown",
   "source": [
    "## Codes for Problem 1 and Problem 2"
   ],
   "metadata": {
    "id": "Om7423NauKQ6"
   }
  },
  {
   "cell_type": "markdown",
   "source": [
    "### Import Packages"
   ],
   "metadata": {
    "id": "rX6pBqvV6RCq"
   }
  },
  {
   "cell_type": "code",
   "execution_count": 151,
   "source": [
    "import glob\r\n",
    "import os\r\n",
    "import random\r\n",
    "\r\n",
    "import matplotlib.pyplot as plt\r\n",
    "import numpy as np\r\n",
    "import pandas as pd\r\n",
    "\r\n",
    "import torch\r\n",
    "import torch.nn as nn\r\n",
    "import torch.optim as optim\r\n",
    "\r\n",
    "from PIL import Image\r\n",
    "from torch.utils.data import DataLoader, Dataset, RandomSampler\r\n",
    "from torchvision import transforms, models, datasets\r\n",
    "from tqdm import tqdm\r\n",
    "\r\n",
    "%matplotlib inline"
   ],
   "outputs": [],
   "metadata": {
    "id": "73wanLwflUdb"
   }
  },
  {
   "cell_type": "markdown",
   "source": [
    "### Check GPU Environment"
   ],
   "metadata": {
    "id": "rtXEq_Yx5j-L"
   }
  },
  {
   "cell_type": "code",
   "execution_count": 152,
   "source": [
    "device = torch.device('cuda' if torch.cuda.is_available() else 'cpu')\r\n",
    "print(f'Using {device} device')"
   ],
   "outputs": [
    {
     "output_type": "stream",
     "name": "stdout",
     "text": [
      "Using cuda device\n"
     ]
    }
   ],
   "metadata": {
    "id": "Yz3wOsYwmEz8"
   }
  },
  {
   "cell_type": "code",
   "execution_count": 153,
   "source": [
    "! nvidia-smi -L"
   ],
   "outputs": [
    {
     "output_type": "stream",
     "name": "stdout",
     "text": [
      "GPU 0: NVIDIA GeForce GTX 1650 (UUID: GPU-79830ca2-a70a-8f38-2080-0e7138528084)\n"
     ]
    }
   ],
   "metadata": {
    "id": "zbpaGDdwnX9g"
   }
  },
  {
   "cell_type": "markdown",
   "source": [
    "### Set the Seed to Reproduce the Result"
   ],
   "metadata": {
    "id": "qAoPtdOR5ojk"
   }
  },
  {
   "cell_type": "code",
   "execution_count": 154,
   "source": [
    "def set_all_seed(seed):\r\n",
    "    np.random.seed(seed)\r\n",
    "    random.seed(seed)\r\n",
    "    torch.manual_seed(seed)\r\n",
    "set_all_seed(123)"
   ],
   "outputs": [],
   "metadata": {
    "id": "Wphy638XBNj-"
   }
  },
  {
   "cell_type": "markdown",
   "source": [
    "### Create Dataset and Dataloader"
   ],
   "metadata": {
    "id": "GLmcH3NAH4wq"
   }
  },
  {
   "cell_type": "code",
   "execution_count": 155,
   "source": [
    "batch_size = 256\r\n",
    "\r\n",
    "train_transform = transforms.Compose([\r\n",
    "    transforms.Pad(4, padding_mode='reflect'),\r\n",
    "    transforms.RandomHorizontalFlip(),\r\n",
    "    transforms.RandomCrop(32),\r\n",
    "    transforms.ToTensor(),\r\n",
    "])\r\n",
    "test_transform = transforms.Compose([\r\n",
    "    transforms.ToTensor(),\r\n",
    "])"
   ],
   "outputs": [],
   "metadata": {
    "id": "5VHp_O3_JgZE"
   }
  },
  {
   "cell_type": "code",
   "execution_count": 156,
   "source": [
    "import ssl\r\n",
    "ssl._create_default_https_context = ssl._create_unverified_context"
   ],
   "outputs": [],
   "metadata": {}
  },
  {
   "cell_type": "code",
   "execution_count": 157,
   "source": [
    "train_dataset = datasets.CIFAR10(root='data', train=True, download=True, transform=train_transform)\r\n",
    "valid_dataset = datasets.CIFAR10(root='data', train=False, download=True, transform=test_transform)\r\n",
    "\r\n",
    "train_dataloader = DataLoader(train_dataset, batch_size=batch_size, shuffle=True, pin_memory=True)\r\n",
    "valid_dataloader = DataLoader(valid_dataset, batch_size=batch_size, shuffle=False, pin_memory=True)\r\n",
    "\r\n",
    "sixteenth_train_sampler = RandomSampler(train_dataset, num_samples=len(train_dataset)//16)\r\n",
    "half_train_sampler = RandomSampler(train_dataset, num_samples=len(train_dataset)//2)\r\n",
    "\r\n",
    "sixteenth_train_dataloader = DataLoader(train_dataset, batch_size=batch_size, sampler=sixteenth_train_sampler)\r\n",
    "half_train_dataloader = DataLoader(train_dataset, batch_size=batch_size, sampler=half_train_sampler)"
   ],
   "outputs": [
    {
     "output_type": "stream",
     "name": "stdout",
     "text": [
      "Files already downloaded and verified\n",
      "Files already downloaded and verified\n"
     ]
    }
   ],
   "metadata": {
    "id": "5VHp_O3_JgZE"
   }
  },
  {
   "cell_type": "markdown",
   "source": [
    "### Load Models"
   ],
   "metadata": {
    "id": "QjFDtcWRnFS9"
   }
  },
  {
   "cell_type": "code",
   "execution_count": 158,
   "source": [
    "# HINT: Remember to change the model to 'resnet50' and the weights to weights=\"IMAGENET1K_V1\" when needed.\r\n",
    "model_small = torch.hub.load('pytorch/vision:v0.10.0', 'resnet18', weights=None)\r\n",
    "model_small.fc.out_features = 10\r\n",
    "model_small = model_small.to(device)\r\n",
    "# print(model)\r\n",
    "\r\n",
    "# Background: The original resnet18 is designed for ImageNet dataset to predict 1000 classes.\r\n",
    "# TODO: Change the output of the model to 10 class."
   ],
   "outputs": [
    {
     "output_type": "stream",
     "name": "stderr",
     "text": [
      "Using cache found in C:\\Users\\Kyle/.cache\\torch\\hub\\pytorch_vision_v0.10.0\n"
     ]
    }
   ],
   "metadata": {
    "id": "vgZV0CodnFS9",
    "scrolled": true
   }
  },
  {
   "cell_type": "markdown",
   "source": [
    "### Training and Testing Models"
   ],
   "metadata": {
    "id": "lZo50knhnFS_"
   }
  },
  {
   "cell_type": "code",
   "execution_count": 159,
   "source": [
    "# TODO: Fill in the code cell according to the pytorch tutorial we gave.\r\n",
    "def train(dataloader, model, loss_fn, optimizer):\r\n",
    "    num_batches = len(dataloader)\r\n",
    "    size = len(dataloader.dataset)\r\n",
    "    epoch_loss = 0\r\n",
    "    correct = 0\r\n",
    "    \r\n",
    "    model.train()\r\n",
    "\r\n",
    "    for X, y in dataloader:\r\n",
    "        X, y = X.to(device), y.to(device)\r\n",
    "\r\n",
    "        # Compute prediction error\r\n",
    "        pred = model(X)\r\n",
    "        loss = loss_fn(pred, y)\r\n",
    "\r\n",
    "        # Backpropagation\r\n",
    "        optimizer.zero_grad()\r\n",
    "        loss.backward()\r\n",
    "        optimizer.step()\r\n",
    "\r\n",
    "        epoch_loss += loss.item()\r\n",
    "        pred = pred.argmax(dim=1, keepdim=True)\r\n",
    "        correct += pred.eq(y.view_as(pred)).sum().item()\r\n",
    "\r\n",
    "    avg_epoch_loss = epoch_loss / num_batches\r\n",
    "    avg_acc = correct / size\r\n",
    "\r\n",
    "    return avg_epoch_loss, avg_acc\r\n",
    "\r\n",
    "def test(dataloader, model, loss_fn):\r\n",
    "    num_batches = len(dataloader)\r\n",
    "    size = len(dataloader.dataset)\r\n",
    "    epoch_loss = 0\r\n",
    "    correct = 0\r\n",
    "\r\n",
    "    model.eval()\r\n",
    "\r\n",
    "    with torch.no_grad():\r\n",
    "        for X, y in dataloader:\r\n",
    "            X, y = X.to(device), y.to(device)\r\n",
    "\r\n",
    "            pred = model(X)\r\n",
    "\r\n",
    "            epoch_loss += loss_fn(pred, y).item()\r\n",
    "            pred = pred.argmax(dim=1, keepdim=True)\r\n",
    "            correct += pred.eq(y.view_as(pred)).sum().item()\r\n",
    "\r\n",
    "    avg_epoch_loss = epoch_loss / num_batches\r\n",
    "    avg_acc = correct / size\r\n",
    "\r\n",
    "    return avg_epoch_loss, avg_acc"
   ],
   "outputs": [],
   "metadata": {}
  },
  {
   "cell_type": "code",
   "execution_count": 218,
   "source": [
    "class EarlyStopper:\r\n",
    "    def __init__(self, patience=1, min_delta=0):\r\n",
    "        self.patience = patience\r\n",
    "        self.min_delta = min_delta\r\n",
    "        self.counter = 0\r\n",
    "        self.min_validation_loss = np.inf\r\n",
    "\r\n",
    "    def early_stop(self, validation_loss):\r\n",
    "        if validation_loss < self.min_validation_loss:\r\n",
    "            self.min_validation_loss = validation_loss\r\n",
    "            self.counter = 0\r\n",
    "        elif validation_loss > (self.min_validation_loss + self.min_delta):\r\n",
    "            self.counter += 1\r\n",
    "            if self.counter >= self.patience:\r\n",
    "                return True\r\n",
    "        return False"
   ],
   "outputs": [],
   "metadata": {}
  },
  {
   "cell_type": "code",
   "execution_count": 206,
   "source": [
    "epochs_small = 15\r\n",
    "epochs_big = 15"
   ],
   "outputs": [],
   "metadata": {}
  },
  {
   "cell_type": "markdown",
   "source": [
    "## Training Small model and testing"
   ],
   "metadata": {}
  },
  {
   "cell_type": "code",
   "execution_count": 198,
   "source": [
    "# Use sixteenth_train_dataloader\r\n",
    "model_small = torch.hub.load('pytorch/vision:v0.10.0', 'resnet18', weights=None)\r\n",
    "model_small.fc.out_features = 10\r\n",
    "model_small = model_small.to(device)\r\n",
    "loss_fn = nn.CrossEntropyLoss()\r\n",
    "optimizer_small = torch.optim.Adam(model_small.parameters(), lr=1e-3)\r\n",
    "\r\n",
    "for epoch in range(epochs_small):\r\n",
    "    train_loss, train_acc = train(sixteenth_train_dataloader, model_small, loss_fn, optimizer_small)\r\n",
    "    test_loss, test_acc = test(valid_dataloader, model_small, loss_fn)\r\n",
    "    print(f\"Epoch {epoch + 1:2d}: Loss = {train_loss:.4f} Acc = {train_acc:.2f} Test_Loss = {test_loss:.4f} Test_Acc = {test_acc:.2f}\")\r\n",
    "\r\n",
    "print(\"Done!\")"
   ],
   "outputs": [
    {
     "output_type": "stream",
     "name": "stderr",
     "text": [
      "Using cache found in C:\\Users\\Kyle/.cache\\torch\\hub\\pytorch_vision_v0.10.0\n"
     ]
    },
    {
     "output_type": "stream",
     "name": "stdout",
     "text": [
      "Epoch  1: Loss = 3.3091 Acc = 0.02 Test_Loss = 3.2612 Test_Acc = 0.13\n",
      "Epoch  2: Loss = 1.8299 Acc = 0.02 Test_Loss = 3.1211 Test_Acc = 0.18\n",
      "Epoch  3: Loss = 1.7134 Acc = 0.02 Test_Loss = 2.9764 Test_Acc = 0.19\n",
      "Epoch  4: Loss = 1.6684 Acc = 0.02 Test_Loss = 2.0777 Test_Acc = 0.31\n",
      "Epoch  5: Loss = 1.5995 Acc = 0.03 Test_Loss = 1.6366 Test_Acc = 0.41\n",
      "Epoch  6: Loss = 1.5976 Acc = 0.03 Test_Loss = 1.6037 Test_Acc = 0.41\n",
      "Epoch  7: Loss = 1.5272 Acc = 0.03 Test_Loss = 1.5862 Test_Acc = 0.44\n",
      "Epoch  8: Loss = 1.5267 Acc = 0.03 Test_Loss = 1.4347 Test_Acc = 0.48\n",
      "Epoch  9: Loss = 1.4490 Acc = 0.03 Test_Loss = 1.5719 Test_Acc = 0.44\n",
      "Epoch 10: Loss = 1.4667 Acc = 0.03 Test_Loss = 1.4705 Test_Acc = 0.46\n",
      "Epoch 11: Loss = 1.4707 Acc = 0.03 Test_Loss = 1.5094 Test_Acc = 0.44\n",
      "Epoch 12: Loss = 1.4481 Acc = 0.03 Test_Loss = 1.4554 Test_Acc = 0.47\n",
      "Epoch 13: Loss = 1.4228 Acc = 0.03 Test_Loss = 1.5419 Test_Acc = 0.45\n",
      "Epoch 14: Loss = 1.3973 Acc = 0.03 Test_Loss = 1.6101 Test_Acc = 0.41\n",
      "Epoch 15: Loss = 1.3575 Acc = 0.03 Test_Loss = 1.6610 Test_Acc = 0.40\n",
      "Done!\n"
     ]
    }
   ],
   "metadata": {
    "scrolled": false
   }
  },
  {
   "cell_type": "code",
   "execution_count": 200,
   "source": [
    "# Use half_train_dataloader\r\n",
    "model_small = torch.hub.load('pytorch/vision:v0.10.0', 'resnet18', weights=None)\r\n",
    "model_small.fc.out_features = 10\r\n",
    "model_small = model_small.to(device)\r\n",
    "loss_fn = nn.CrossEntropyLoss()\r\n",
    "optimizer_small = torch.optim.Adam(model_small.parameters(), lr=1e-3)\r\n",
    "\r\n",
    "for epoch in range(epochs_small):\r\n",
    "    train_loss, train_acc = train(half_train_dataloader, model_small, loss_fn, optimizer_small)\r\n",
    "    test_loss, test_acc = test(valid_dataloader, model_small, loss_fn)\r\n",
    "    print(f\"Epoch {epoch + 1:2d}: Loss = {train_loss:.4f} Acc = {train_acc:.2f} Test_Loss = {test_loss:.4f} Test_Acc = {test_acc:.2f}\")\r\n",
    "\r\n",
    "print(\"Done!\")"
   ],
   "outputs": [
    {
     "output_type": "stream",
     "name": "stderr",
     "text": [
      "Using cache found in C:\\Users\\Kyle/.cache\\torch\\hub\\pytorch_vision_v0.10.0\n"
     ]
    },
    {
     "output_type": "stream",
     "name": "stdout",
     "text": [
      "Epoch  1: Loss = 1.8158 Acc = 0.20 Test_Loss = 1.6211 Test_Acc = 0.43\n",
      "Epoch  2: Loss = 1.3729 Acc = 0.25 Test_Loss = 1.3587 Test_Acc = 0.50\n",
      "Epoch  3: Loss = 1.2230 Acc = 0.28 Test_Loss = 1.3703 Test_Acc = 0.53\n",
      "Epoch  4: Loss = 1.1456 Acc = 0.29 Test_Loss = 1.2932 Test_Acc = 0.56\n",
      "Epoch  5: Loss = 1.0667 Acc = 0.31 Test_Loss = 1.1287 Test_Acc = 0.61\n",
      "Epoch  6: Loss = 1.0098 Acc = 0.32 Test_Loss = 1.2087 Test_Acc = 0.58\n",
      "Epoch  7: Loss = 0.9668 Acc = 0.33 Test_Loss = 1.8140 Test_Acc = 0.46\n",
      "Epoch  8: Loss = 0.9261 Acc = 0.34 Test_Loss = 1.3533 Test_Acc = 0.55\n",
      "Epoch  9: Loss = 0.8771 Acc = 0.34 Test_Loss = 1.1341 Test_Acc = 0.62\n",
      "Epoch 10: Loss = 0.8411 Acc = 0.35 Test_Loss = 1.0882 Test_Acc = 0.63\n",
      "Epoch 11: Loss = 0.8294 Acc = 0.35 Test_Loss = 0.9506 Test_Acc = 0.67\n",
      "Epoch 12: Loss = 0.7978 Acc = 0.36 Test_Loss = 1.0269 Test_Acc = 0.65\n",
      "Epoch 13: Loss = 0.7674 Acc = 0.36 Test_Loss = 0.8899 Test_Acc = 0.70\n",
      "Epoch 14: Loss = 0.7453 Acc = 0.37 Test_Loss = 0.7902 Test_Acc = 0.73\n",
      "Epoch 15: Loss = 0.7196 Acc = 0.37 Test_Loss = 0.9195 Test_Acc = 0.69\n",
      "Done!\n"
     ]
    }
   ],
   "metadata": {}
  },
  {
   "cell_type": "code",
   "execution_count": 201,
   "source": [
    "# Use train_dataloader\r\n",
    "model_small = torch.hub.load('pytorch/vision:v0.10.0', 'resnet18', weights=None)\r\n",
    "model_small.fc.out_features = 10\r\n",
    "model_small = model_small.to(device)\r\n",
    "loss_fn = nn.CrossEntropyLoss()\r\n",
    "optimizer_small = torch.optim.Adam(model_small.parameters(), lr=1e-3)\r\n",
    "\r\n",
    "for epoch in range(epochs_small):\r\n",
    "    train_loss, train_acc = train(train_dataloader, model_small, loss_fn, optimizer_small)\r\n",
    "    test_loss, test_acc = test(valid_dataloader, model_small, loss_fn)\r\n",
    "    print(f\"Epoch {epoch + 1:2d}: Loss = {train_loss:.4f} Acc = {train_acc:.2f} Test_Loss = {test_loss:.4f} Test_Acc = {test_acc:.2f}\")\r\n",
    "\r\n",
    "print(\"Done!\")"
   ],
   "outputs": [
    {
     "output_type": "stream",
     "name": "stderr",
     "text": [
      "Using cache found in C:\\Users\\Kyle/.cache\\torch\\hub\\pytorch_vision_v0.10.0\n"
     ]
    },
    {
     "output_type": "stream",
     "name": "stdout",
     "text": [
      "Epoch  1: Loss = 1.6063 Acc = 0.44 Test_Loss = 1.8887 Test_Acc = 0.38\n",
      "Epoch  2: Loss = 1.1733 Acc = 0.58 Test_Loss = 1.4876 Test_Acc = 0.51\n",
      "Epoch  3: Loss = 1.0274 Acc = 0.64 Test_Loss = 1.3198 Test_Acc = 0.56\n",
      "Epoch  4: Loss = 0.9248 Acc = 0.67 Test_Loss = 1.0287 Test_Acc = 0.65\n",
      "Epoch  5: Loss = 0.8593 Acc = 0.70 Test_Loss = 0.9880 Test_Acc = 0.66\n",
      "Epoch  6: Loss = 0.7985 Acc = 0.72 Test_Loss = 1.1908 Test_Acc = 0.60\n",
      "Epoch  7: Loss = 0.7528 Acc = 0.73 Test_Loss = 1.0012 Test_Acc = 0.65\n",
      "Epoch  8: Loss = 0.7138 Acc = 0.75 Test_Loss = 0.7953 Test_Acc = 0.73\n",
      "Epoch  9: Loss = 0.6817 Acc = 0.76 Test_Loss = 0.8354 Test_Acc = 0.71\n",
      "Epoch 10: Loss = 0.6504 Acc = 0.77 Test_Loss = 0.8343 Test_Acc = 0.72\n",
      "Epoch 11: Loss = 0.6278 Acc = 0.78 Test_Loss = 0.9020 Test_Acc = 0.70\n",
      "Epoch 12: Loss = 0.5898 Acc = 0.79 Test_Loss = 0.8108 Test_Acc = 0.73\n",
      "Epoch 13: Loss = 0.5826 Acc = 0.79 Test_Loss = 0.6821 Test_Acc = 0.76\n",
      "Epoch 14: Loss = 0.5551 Acc = 0.81 Test_Loss = 0.8288 Test_Acc = 0.72\n",
      "Epoch 15: Loss = 0.5428 Acc = 0.81 Test_Loss = 0.7722 Test_Acc = 0.74\n",
      "Done!\n"
     ]
    }
   ],
   "metadata": {}
  },
  {
   "cell_type": "markdown",
   "source": [
    "## Training Big modle and testing"
   ],
   "metadata": {}
  },
  {
   "cell_type": "code",
   "execution_count": 207,
   "source": [
    "# Use sixteenth_train_dataloader\r\n",
    "model_big = torch.hub.load('pytorch/vision:v0.10.0', 'resnet50', weights=None)\r\n",
    "model_big.fc.out_features = 10\r\n",
    "model_big = model_big.to(device)\r\n",
    "loss_fn = nn.CrossEntropyLoss()\r\n",
    "optimizer_big = torch.optim.Adam(model_big.parameters(), lr=1e-3)\r\n",
    "\r\n",
    "for epoch in range(epochs_big):\r\n",
    "    train_loss, train_acc = train(sixteenth_train_dataloader, model_big, loss_fn, optimizer_big)\r\n",
    "    test_loss, test_acc = test(valid_dataloader, model_big, loss_fn)\r\n",
    "    print(f\"Epoch {epoch + 1:2d}: Loss = {train_loss:.4f} Acc = {train_acc:.2f} Test_Loss = {test_loss:.4f} Test_Acc = {test_acc:.2f}\")\r\n",
    "print(\"Done!\")"
   ],
   "outputs": [
    {
     "output_type": "stream",
     "name": "stderr",
     "text": [
      "Using cache found in C:\\Users\\Kyle/.cache\\torch\\hub\\pytorch_vision_v0.10.0\n"
     ]
    },
    {
     "output_type": "stream",
     "name": "stdout",
     "text": [
      "Epoch  1: Loss = 3.1537 Acc = 0.01 Test_Loss = 2.5314 Test_Acc = 0.10\n",
      "Epoch  2: Loss = 2.2305 Acc = 0.01 Test_Loss = 2.6589 Test_Acc = 0.10\n",
      "Epoch  3: Loss = 2.0594 Acc = 0.02 Test_Loss = 2.1857 Test_Acc = 0.19\n",
      "Epoch  4: Loss = 2.0064 Acc = 0.02 Test_Loss = 1.9874 Test_Acc = 0.27\n",
      "Epoch  5: Loss = 1.9464 Acc = 0.02 Test_Loss = 1.9091 Test_Acc = 0.31\n",
      "Epoch  6: Loss = 1.9610 Acc = 0.02 Test_Loss = 1.8244 Test_Acc = 0.37\n",
      "Epoch  7: Loss = 1.8766 Acc = 0.02 Test_Loss = 2.2989 Test_Acc = 0.38\n",
      "Epoch  8: Loss = 1.8338 Acc = 0.02 Test_Loss = 2.6227 Test_Acc = 0.36\n",
      "Epoch  9: Loss = 1.8283 Acc = 0.02 Test_Loss = 2.0510 Test_Acc = 0.39\n",
      "Epoch 10: Loss = 1.7918 Acc = 0.02 Test_Loss = 1.7615 Test_Acc = 0.38\n",
      "Epoch 11: Loss = 1.7463 Acc = 0.02 Test_Loss = 1.6838 Test_Acc = 0.42\n",
      "Epoch 12: Loss = 1.7342 Acc = 0.02 Test_Loss = 1.6315 Test_Acc = 0.43\n",
      "Epoch 13: Loss = 1.6767 Acc = 0.03 Test_Loss = 1.6206 Test_Acc = 0.42\n",
      "Epoch 14: Loss = 1.6852 Acc = 0.03 Test_Loss = 1.6199 Test_Acc = 0.42\n",
      "Epoch 15: Loss = 1.6695 Acc = 0.03 Test_Loss = 1.5778 Test_Acc = 0.44\n",
      "Done!\n"
     ]
    }
   ],
   "metadata": {
    "scrolled": true
   }
  },
  {
   "cell_type": "code",
   "execution_count": 209,
   "source": [
    "# Use half_train_dataloader\r\n",
    "model_big = torch.hub.load('pytorch/vision:v0.10.0', 'resnet50', weights=None)\r\n",
    "model_big.fc.out_features = 10\r\n",
    "model_big = model_big.to(device)\r\n",
    "loss_fn = nn.CrossEntropyLoss()\r\n",
    "optimizer_big = torch.optim.Adam(model_big.parameters(), lr=1e-3)\r\n",
    "\r\n",
    "for epoch in range(epochs_big):\r\n",
    "    train_loss, train_acc = train(half_train_dataloader, model_big, loss_fn, optimizer_big)\r\n",
    "    test_loss, test_acc = test(valid_dataloader, model_big, loss_fn)\r\n",
    "    print(f\"Epoch {epoch + 1:2d}: Loss = {train_loss:.4f} Acc = {train_acc:.2f} Test_Loss = {test_loss:.4f} Test_Acc = {test_acc:.2f}\")\r\n",
    "print(\"Done!\")"
   ],
   "outputs": [
    {
     "output_type": "stream",
     "name": "stderr",
     "text": [
      "Using cache found in C:\\Users\\Kyle/.cache\\torch\\hub\\pytorch_vision_v0.10.0\n"
     ]
    },
    {
     "output_type": "stream",
     "name": "stdout",
     "text": [
      "Epoch  1: Loss = 2.1046 Acc = 0.14 Test_Loss = 1.7188 Test_Acc = 0.39\n",
      "Epoch  2: Loss = 1.6716 Acc = 0.20 Test_Loss = 1.5399 Test_Acc = 0.43\n",
      "Epoch  3: Loss = 1.5553 Acc = 0.22 Test_Loss = 1.4065 Test_Acc = 0.49\n",
      "Epoch  4: Loss = 1.5001 Acc = 0.23 Test_Loss = 1.5446 Test_Acc = 0.47\n",
      "Epoch  5: Loss = 1.4294 Acc = 0.24 Test_Loss = 1.6473 Test_Acc = 0.48\n",
      "Epoch  6: Loss = 1.3789 Acc = 0.26 Test_Loss = 1.3719 Test_Acc = 0.51\n",
      "Epoch  7: Loss = 1.3209 Acc = 0.27 Test_Loss = 1.3886 Test_Acc = 0.49\n",
      "Epoch  8: Loss = 1.3754 Acc = 0.26 Test_Loss = 1.4347 Test_Acc = 0.50\n",
      "Epoch  9: Loss = 1.2997 Acc = 0.27 Test_Loss = 1.3381 Test_Acc = 0.54\n",
      "Epoch 10: Loss = 1.2011 Acc = 0.29 Test_Loss = 1.1576 Test_Acc = 0.59\n",
      "Epoch 11: Loss = 1.2347 Acc = 0.28 Test_Loss = 1.1120 Test_Acc = 0.60\n",
      "Epoch 12: Loss = 1.2386 Acc = 0.29 Test_Loss = 1.5142 Test_Acc = 0.56\n",
      "Epoch 13: Loss = 1.2595 Acc = 0.29 Test_Loss = 9.4886 Test_Acc = 0.32\n",
      "Epoch 14: Loss = 1.4727 Acc = 0.25 Test_Loss = 1.9753 Test_Acc = 0.46\n",
      "Epoch 15: Loss = 1.4709 Acc = 0.25 Test_Loss = 1.2565 Test_Acc = 0.56\n",
      "Done!\n"
     ]
    }
   ],
   "metadata": {}
  },
  {
   "cell_type": "code",
   "execution_count": 210,
   "source": [
    "# Use train_dataloader\r\n",
    "model_big = torch.hub.load('pytorch/vision:v0.10.0', 'resnet50', weights=None)\r\n",
    "model_big.fc.out_features = 10\r\n",
    "model_big = model_big.to(device)\r\n",
    "loss_fn = nn.CrossEntropyLoss()\r\n",
    "optimizer_big = torch.optim.Adam(model_big.parameters(), lr=1e-3)\r\n",
    "\r\n",
    "for epoch in range(epochs_big):\r\n",
    "    train_loss, train_acc = train(train_dataloader, model_big, loss_fn, optimizer_big)\r\n",
    "    test_loss, test_acc = test(valid_dataloader, model_big, loss_fn)\r\n",
    "    print(f\"Epoch {epoch + 1:2d}: Loss = {train_loss:.4f} Acc = {train_acc:.2f} Test_Loss = {test_loss:.4f} Test_Acc = {test_acc:.2f}\")\r\n",
    "print(\"Done!\")"
   ],
   "outputs": [
    {
     "output_type": "stream",
     "name": "stderr",
     "text": [
      "Using cache found in C:\\Users\\Kyle/.cache\\torch\\hub\\pytorch_vision_v0.10.0\n"
     ]
    },
    {
     "output_type": "stream",
     "name": "stdout",
     "text": [
      "Epoch  1: Loss = 1.9242 Acc = 0.34 Test_Loss = 1.6143 Test_Acc = 0.44\n",
      "Epoch  2: Loss = 1.5375 Acc = 0.46 Test_Loss = 1.7066 Test_Acc = 0.52\n",
      "Epoch  3: Loss = 1.4559 Acc = 0.49 Test_Loss = 3.9190 Test_Acc = 0.49\n",
      "Epoch  4: Loss = 1.3676 Acc = 0.53 Test_Loss = 1.4539 Test_Acc = 0.55\n",
      "Epoch  5: Loss = 1.3413 Acc = 0.53 Test_Loss = 1.2871 Test_Acc = 0.56\n",
      "Epoch  6: Loss = 1.2642 Acc = 0.56 Test_Loss = 1.2044 Test_Acc = 0.61\n",
      "Epoch  7: Loss = 1.1446 Acc = 0.60 Test_Loss = 1.4724 Test_Acc = 0.58\n",
      "Epoch  8: Loss = 1.1566 Acc = 0.60 Test_Loss = 1.2187 Test_Acc = 0.60\n",
      "Epoch  9: Loss = 1.1359 Acc = 0.61 Test_Loss = 11.0713 Test_Acc = 0.37\n",
      "Epoch 10: Loss = 1.1375 Acc = 0.60 Test_Loss = 45.5376 Test_Acc = 0.25\n",
      "Epoch 11: Loss = 1.5140 Acc = 0.48 Test_Loss = 1.6398 Test_Acc = 0.47\n",
      "Epoch 12: Loss = 1.3260 Acc = 0.53 Test_Loss = 1.1422 Test_Acc = 0.60\n",
      "Epoch 13: Loss = 1.4892 Acc = 0.49 Test_Loss = 1.8774 Test_Acc = 0.35\n",
      "Epoch 14: Loss = 1.5633 Acc = 0.45 Test_Loss = 1.6101 Test_Acc = 0.50\n",
      "Epoch 15: Loss = 1.2840 Acc = 0.54 Test_Loss = 1.2282 Test_Acc = 0.60\n",
      "Done!\n"
     ]
    }
   ],
   "metadata": {
    "scrolled": true
   }
  },
  {
   "cell_type": "markdown",
   "source": [
    "## Drawing Picture"
   ],
   "metadata": {}
  },
  {
   "cell_type": "code",
   "execution_count": 168,
   "source": [
    "zero_point_two_train_sampler = RandomSampler(train_dataset, num_samples=int(len(train_dataset) * 0.2))\r\n",
    "zero_point_four_train_sampler = RandomSampler(train_dataset, num_samples=int(len(train_dataset) * 0.4))\r\n",
    "zero_point_six_train_sampler = RandomSampler(train_dataset, num_samples=int(len(train_dataset) * 0.6))\r\n",
    "zero_point_eight_train_sampler = RandomSampler(train_dataset, num_samples=int(len(train_dataset) * 0.8))\r\n",
    "\r\n",
    "zero_point_two_train_dataloader = DataLoader(train_dataset, batch_size=batch_size, sampler=zero_point_two_train_sampler)\r\n",
    "zero_point_four_train_dataloader = DataLoader(train_dataset, batch_size=batch_size, sampler=zero_point_four_train_sampler)\r\n",
    "zero_point_six_train_dataloader = DataLoader(train_dataset, batch_size=batch_size, sampler=zero_point_six_train_sampler)\r\n",
    "zero_point_eight_train_dataloader = DataLoader(train_dataset, batch_size=batch_size, sampler=zero_point_eight_train_sampler)\r\n",
    "\r\n",
    "dataloaders = [zero_point_two_train_dataloader, zero_point_four_train_dataloader,\r\n",
    "               zero_point_six_train_dataloader, zero_point_eight_train_dataloader,\r\n",
    "               train_dataloader]"
   ],
   "outputs": [],
   "metadata": {}
  },
  {
   "cell_type": "code",
   "execution_count": 169,
   "source": [
    "# training ResNet18 from datasize 0.2 to datasize 1.0\r\n",
    "small_model_acc = [] # 0.2, 0.4, 0.6, 0.8, 1.0 (dataset size)\r\n",
    "\r\n",
    "for idx, dataloader in enumerate(dataloaders):\r\n",
    "    loss_fn = nn.CrossEntropyLoss()\r\n",
    "    model_small = torch.hub.load('pytorch/vision:v0.10.0', 'resnet18', weights=None)\r\n",
    "    model_small.fc.out_features = 10\r\n",
    "    model_small = model_small.to(device)\r\n",
    "    optimizer_small = torch.optim.Adam(model_small.parameters(), lr=1e-3)\r\n",
    "\r\n",
    "    for epoch in range(epochs_small):\r\n",
    "        train_loss, train_acc = train(dataloader, model_small, loss_fn, optimizer_small)\r\n",
    "        test_loss, test_acc = test(valid_dataloader, model_small, loss_fn)\r\n",
    "        if epoch % 10 == 0:\r\n",
    "            print(f\"Epoch {epoch + 1:2d}: Loss = {train_loss:.4f} Acc = {train_acc:.2f} Test_Loss = {test_loss:.4f} Test_Acc = {test_acc:.2f}\")\r\n",
    "    small_model_acc.append(test_acc)\r\n",
    "    \r\n",
    "    print(\"=\"*25 + \"Complete \"+str(idx+1)+\" dataloader\"+\"=\"*25)\r\n",
    "print(\"Done!\")"
   ],
   "outputs": [
    {
     "output_type": "stream",
     "name": "stderr",
     "text": [
      "Using cache found in C:\\Users\\Kyle/.cache\\torch\\hub\\pytorch_vision_v0.10.0\n",
      "Using cache found in C:\\Users\\Kyle/.cache\\torch\\hub\\pytorch_vision_v0.10.0\n"
     ]
    },
    {
     "output_type": "stream",
     "name": "stdout",
     "text": [
      "Epoch  1: Loss = 2.2479 Acc = 0.06 Test_Loss = 2.3212 Test_Acc = 0.24\n",
      "Epoch  2: Loss = 1.5823 Acc = 0.08 Test_Loss = 1.4485 Test_Acc = 0.48\n",
      "Epoch  3: Loss = 1.5141 Acc = 0.09 Test_Loss = 2.0357 Test_Acc = 0.35\n",
      "Epoch  4: Loss = 1.4216 Acc = 0.10 Test_Loss = 1.3917 Test_Acc = 0.49\n",
      "Epoch  5: Loss = 1.3805 Acc = 0.10 Test_Loss = 1.6905 Test_Acc = 0.43\n",
      "Epoch  6: Loss = 1.3262 Acc = 0.10 Test_Loss = 1.5252 Test_Acc = 0.45\n",
      "Epoch  7: Loss = 1.2757 Acc = 0.11 Test_Loss = 1.8909 Test_Acc = 0.39\n",
      "Epoch  8: Loss = 1.2477 Acc = 0.11 Test_Loss = 2.4362 Test_Acc = 0.32\n",
      "Epoch  9: Loss = 1.2248 Acc = 0.11 Test_Loss = 2.4921 Test_Acc = 0.33\n",
      "Epoch 10: Loss = 1.1839 Acc = 0.12 Test_Loss = 1.2946 Test_Acc = 0.53\n",
      "Epoch 11: Loss = 1.1531 Acc = 0.12 Test_Loss = 1.3163 Test_Acc = 0.54\n",
      "Epoch 12: Loss = 1.0991 Acc = 0.12 Test_Loss = 1.1777 Test_Acc = 0.58\n",
      "Epoch 13: Loss = 1.0876 Acc = 0.12 Test_Loss = 2.4353 Test_Acc = 0.35\n",
      "Epoch 14: Loss = 1.0863 Acc = 0.12 Test_Loss = 1.2811 Test_Acc = 0.58\n",
      "Epoch 15: Loss = 1.1017 Acc = 0.12 Test_Loss = 1.5342 Test_Acc = 0.47\n",
      "============================================================\n",
      "Epoch  1: Loss = 2.4529 Acc = 0.04 Test_Loss = 2.1708 Test_Acc = 0.23\n",
      "Epoch  2: Loss = 1.9587 Acc = 0.06 Test_Loss = 2.3624 Test_Acc = 0.31\n",
      "Epoch  3: Loss = 1.8920 Acc = 0.07 Test_Loss = 2.0310 Test_Acc = 0.37\n",
      "Epoch  4: Loss = 1.9212 Acc = 0.07 Test_Loss = 2.5278 Test_Acc = 0.37\n",
      "Epoch  5: Loss = 1.7693 Acc = 0.07 Test_Loss = 1.5942 Test_Acc = 0.42\n",
      "Epoch  6: Loss = 1.7581 Acc = 0.08 Test_Loss = 1.6415 Test_Acc = 0.43\n",
      "Epoch  7: Loss = 1.6801 Acc = 0.08 Test_Loss = 1.7598 Test_Acc = 0.42\n",
      "Epoch  8: Loss = 1.7099 Acc = 0.08 Test_Loss = 1.5365 Test_Acc = 0.45\n",
      "Epoch  9: Loss = 1.7205 Acc = 0.08 Test_Loss = 1.8855 Test_Acc = 0.43\n",
      "Epoch 10: Loss = 1.6857 Acc = 0.08 Test_Loss = 1.5480 Test_Acc = 0.45\n",
      "Epoch 11: Loss = 1.6232 Acc = 0.09 Test_Loss = 1.8217 Test_Acc = 0.37\n",
      "Epoch 12: Loss = 1.7841 Acc = 0.08 Test_Loss = 1.8278 Test_Acc = 0.43\n",
      "Epoch 13: Loss = 1.6106 Acc = 0.09 Test_Loss = 1.4544 Test_Acc = 0.48\n",
      "Epoch 14: Loss = 1.6164 Acc = 0.09 Test_Loss = 4.0886 Test_Acc = 0.41\n",
      "Epoch 15: Loss = 1.5576 Acc = 0.09 Test_Loss = 1.4922 Test_Acc = 0.47\n",
      "Epoch 16: Loss = 1.5222 Acc = 0.09 Test_Loss = 1.4500 Test_Acc = 0.51\n",
      "Epoch 17: Loss = 1.4805 Acc = 0.10 Test_Loss = 2.6623 Test_Acc = 0.21\n",
      "Epoch 18: Loss = 2.1184 Acc = 0.05 Test_Loss = 3.1857 Test_Acc = 0.26\n",
      "Epoch 19: Loss = 2.0094 Acc = 0.06 Test_Loss = 1.7971 Test_Acc = 0.35\n",
      "Epoch 20: Loss = 1.8721 Acc = 0.07 Test_Loss = 1.8558 Test_Acc = 0.37\n",
      "Epoch 21: Loss = 1.8424 Acc = 0.07 Test_Loss = 1.8631 Test_Acc = 0.39\n",
      "Epoch 22: Loss = 1.7538 Acc = 0.07 Test_Loss = 1.7593 Test_Acc = 0.41\n",
      "Epoch 23: Loss = 1.7154 Acc = 0.08 Test_Loss = 1.7351 Test_Acc = 0.41\n",
      "Epoch 24: Loss = 1.6797 Acc = 0.08 Test_Loss = 1.5526 Test_Acc = 0.44\n",
      "Epoch 25: Loss = 1.6707 Acc = 0.08 Test_Loss = 2.1662 Test_Acc = 0.43\n",
      "Epoch 26: Loss = 1.5909 Acc = 0.09 Test_Loss = 1.5264 Test_Acc = 0.45\n",
      "Epoch 27: Loss = 1.5931 Acc = 0.09 Test_Loss = 1.4836 Test_Acc = 0.47\n",
      "=========================Complete 0 dataloader=========================\n"
     ]
    },
    {
     "output_type": "stream",
     "name": "stderr",
     "text": [
      "Using cache found in C:\\Users\\Kyle/.cache\\torch\\hub\\pytorch_vision_v0.10.0\n",
      "Using cache found in C:\\Users\\Kyle/.cache\\torch\\hub\\pytorch_vision_v0.10.0\n"
     ]
    },
    {
     "output_type": "stream",
     "name": "stdout",
     "text": [
      "Epoch  1: Loss = 1.8931 Acc = 0.15 Test_Loss = 1.5395 Test_Acc = 0.44\n",
      "Epoch  2: Loss = 1.4543 Acc = 0.19 Test_Loss = 2.4409 Test_Acc = 0.27\n",
      "Epoch  3: Loss = 1.2985 Acc = 0.21 Test_Loss = 1.3745 Test_Acc = 0.50\n",
      "Epoch  4: Loss = 1.2136 Acc = 0.23 Test_Loss = 1.4139 Test_Acc = 0.51\n",
      "Epoch  5: Loss = 1.1377 Acc = 0.24 Test_Loss = 1.6143 Test_Acc = 0.46\n",
      "Epoch  6: Loss = 1.0767 Acc = 0.25 Test_Loss = 1.3943 Test_Acc = 0.55\n",
      "Epoch  7: Loss = 1.0245 Acc = 0.25 Test_Loss = 1.2809 Test_Acc = 0.57\n",
      "Epoch  8: Loss = 0.9878 Acc = 0.26 Test_Loss = 1.1167 Test_Acc = 0.61\n",
      "Epoch  9: Loss = 0.9563 Acc = 0.26 Test_Loss = 1.4628 Test_Acc = 0.52\n",
      "Epoch 10: Loss = 0.9251 Acc = 0.27 Test_Loss = 1.0887 Test_Acc = 0.64\n",
      "Epoch 11: Loss = 0.8774 Acc = 0.27 Test_Loss = 1.0405 Test_Acc = 0.64\n",
      "Epoch 12: Loss = 0.8738 Acc = 0.28 Test_Loss = 1.0690 Test_Acc = 0.63\n",
      "Epoch 13: Loss = 0.8350 Acc = 0.28 Test_Loss = 0.9390 Test_Acc = 0.68\n",
      "Epoch 14: Loss = 0.8035 Acc = 0.29 Test_Loss = 1.3879 Test_Acc = 0.57\n",
      "Epoch 15: Loss = 0.8083 Acc = 0.29 Test_Loss = 0.8334 Test_Acc = 0.71\n",
      "============================================================\n",
      "Epoch  1: Loss = 2.1692 Acc = 0.11 Test_Loss = 1.9131 Test_Acc = 0.34\n",
      "Epoch  2: Loss = 1.7449 Acc = 0.15 Test_Loss = 1.5705 Test_Acc = 0.43\n",
      "Epoch  3: Loss = 1.6211 Acc = 0.17 Test_Loss = 1.4761 Test_Acc = 0.47\n",
      "Epoch  4: Loss = 1.5353 Acc = 0.18 Test_Loss = 1.4186 Test_Acc = 0.49\n",
      "Epoch  5: Loss = 1.4508 Acc = 0.19 Test_Loss = 1.6228 Test_Acc = 0.43\n",
      "Epoch  6: Loss = 1.6210 Acc = 0.17 Test_Loss = 1.4798 Test_Acc = 0.47\n",
      "Epoch  7: Loss = 1.4630 Acc = 0.19 Test_Loss = 1.6635 Test_Acc = 0.41\n",
      "Epoch  8: Loss = 1.4165 Acc = 0.20 Test_Loss = 1.7708 Test_Acc = 0.49\n",
      "Epoch  9: Loss = 1.4122 Acc = 0.20 Test_Loss = 2.1309 Test_Acc = 0.51\n",
      "Epoch 10: Loss = 1.3950 Acc = 0.21 Test_Loss = 1.4065 Test_Acc = 0.50\n",
      "Epoch 11: Loss = 1.3276 Acc = 0.21 Test_Loss = 1.6630 Test_Acc = 0.50\n",
      "Epoch 12: Loss = 1.2541 Acc = 0.22 Test_Loss = 1.1543 Test_Acc = 0.58\n",
      "Epoch 13: Loss = 1.2704 Acc = 0.22 Test_Loss = 96.9763 Test_Acc = 0.50\n",
      "Epoch 14: Loss = 1.4607 Acc = 0.20 Test_Loss = 1.3890 Test_Acc = 0.50\n",
      "Epoch 15: Loss = 1.3070 Acc = 0.22 Test_Loss = 1.7703 Test_Acc = 0.50\n",
      "Epoch 16: Loss = 1.3071 Acc = 0.22 Test_Loss = 1.5158 Test_Acc = 0.52\n",
      "Epoch 17: Loss = 1.1967 Acc = 0.23 Test_Loss = 1.2145 Test_Acc = 0.57\n",
      "Epoch 18: Loss = 1.2641 Acc = 0.22 Test_Loss = 2.1577 Test_Acc = 0.40\n",
      "Epoch 19: Loss = 1.2693 Acc = 0.22 Test_Loss = 1.1895 Test_Acc = 0.57\n",
      "Epoch 20: Loss = 1.1402 Acc = 0.24 Test_Loss = 1.1291 Test_Acc = 0.60\n",
      "Epoch 21: Loss = 1.1279 Acc = 0.24 Test_Loss = 1.2242 Test_Acc = 0.56\n",
      "Epoch 22: Loss = 1.3587 Acc = 0.22 Test_Loss = 2.3576 Test_Acc = 0.54\n",
      "Epoch 23: Loss = 1.2419 Acc = 0.23 Test_Loss = 1.2815 Test_Acc = 0.60\n",
      "Epoch 24: Loss = 1.1472 Acc = 0.24 Test_Loss = 1.0520 Test_Acc = 0.63\n",
      "Epoch 25: Loss = 1.0734 Acc = 0.25 Test_Loss = 1.0368 Test_Acc = 0.65\n",
      "Epoch 26: Loss = 1.0320 Acc = 0.26 Test_Loss = 1.5596 Test_Acc = 0.52\n",
      "Epoch 27: Loss = 1.1600 Acc = 0.25 Test_Loss = 1.2560 Test_Acc = 0.58\n",
      "=========================Complete 1 dataloader=========================\n"
     ]
    },
    {
     "output_type": "stream",
     "name": "stderr",
     "text": [
      "Using cache found in C:\\Users\\Kyle/.cache\\torch\\hub\\pytorch_vision_v0.10.0\n",
      "Using cache found in C:\\Users\\Kyle/.cache\\torch\\hub\\pytorch_vision_v0.10.0\n"
     ]
    },
    {
     "output_type": "stream",
     "name": "stdout",
     "text": [
      "Epoch  1: Loss = 1.7519 Acc = 0.24 Test_Loss = 2.1814 Test_Acc = 0.32\n",
      "Epoch  2: Loss = 1.3326 Acc = 0.31 Test_Loss = 1.2929 Test_Acc = 0.53\n",
      "Epoch  3: Loss = 1.1946 Acc = 0.34 Test_Loss = 1.5590 Test_Acc = 0.46\n",
      "Epoch  4: Loss = 1.0812 Acc = 0.37 Test_Loss = 1.0427 Test_Acc = 0.63\n",
      "Epoch  5: Loss = 1.0054 Acc = 0.39 Test_Loss = 1.0468 Test_Acc = 0.63\n",
      "Epoch  6: Loss = 0.9550 Acc = 0.40 Test_Loss = 1.4888 Test_Acc = 0.52\n",
      "Epoch  7: Loss = 0.8987 Acc = 0.41 Test_Loss = 0.8627 Test_Acc = 0.70\n",
      "Epoch  8: Loss = 0.8482 Acc = 0.42 Test_Loss = 1.1294 Test_Acc = 0.61\n",
      "Epoch  9: Loss = 0.8326 Acc = 0.43 Test_Loss = 1.1686 Test_Acc = 0.62\n",
      "Epoch 10: Loss = 0.7883 Acc = 0.43 Test_Loss = 0.9430 Test_Acc = 0.67\n",
      "Epoch 11: Loss = 0.7556 Acc = 0.44 Test_Loss = 0.8893 Test_Acc = 0.70\n",
      "Epoch 12: Loss = 0.7316 Acc = 0.45 Test_Loss = 1.0027 Test_Acc = 0.66\n",
      "Epoch 13: Loss = 0.7127 Acc = 0.45 Test_Loss = 0.8252 Test_Acc = 0.71\n",
      "Epoch 14: Loss = 0.6866 Acc = 0.46 Test_Loss = 0.8231 Test_Acc = 0.72\n",
      "Epoch 15: Loss = 0.6683 Acc = 0.46 Test_Loss = 0.7804 Test_Acc = 0.73\n",
      "============================================================\n",
      "Epoch  1: Loss = 2.0333 Acc = 0.18 Test_Loss = 1.7154 Test_Acc = 0.40\n",
      "Epoch  2: Loss = 1.6464 Acc = 0.25 Test_Loss = 1.6032 Test_Acc = 0.45\n",
      "Epoch  3: Loss = 1.5324 Acc = 0.27 Test_Loss = 1.5759 Test_Acc = 0.45\n",
      "Epoch  4: Loss = 1.4558 Acc = 0.29 Test_Loss = 1.4093 Test_Acc = 0.49\n",
      "Epoch  5: Loss = 1.4670 Acc = 0.29 Test_Loss = 1.4138 Test_Acc = 0.49\n",
      "Epoch  6: Loss = 1.3540 Acc = 0.31 Test_Loss = 1.4255 Test_Acc = 0.51\n",
      "Epoch  7: Loss = 1.2742 Acc = 0.33 Test_Loss = 1.2572 Test_Acc = 0.55\n",
      "Epoch  8: Loss = 1.2375 Acc = 0.34 Test_Loss = 2.0119 Test_Acc = 0.36\n",
      "Epoch  9: Loss = 1.2838 Acc = 0.33 Test_Loss = 1.6484 Test_Acc = 0.47\n",
      "Epoch 10: Loss = 1.1663 Acc = 0.35 Test_Loss = 1.5128 Test_Acc = 0.49\n",
      "Epoch 11: Loss = 1.1765 Acc = 0.35 Test_Loss = 1.1726 Test_Acc = 0.58\n",
      "Epoch 12: Loss = 1.1358 Acc = 0.36 Test_Loss = 1.2136 Test_Acc = 0.58\n",
      "Epoch 13: Loss = 1.4291 Acc = 0.30 Test_Loss = 1.4881 Test_Acc = 0.46\n",
      "Epoch 14: Loss = 1.3476 Acc = 0.31 Test_Loss = 1.2749 Test_Acc = 0.54\n",
      "Epoch 15: Loss = 1.1869 Acc = 0.34 Test_Loss = 1.3265 Test_Acc = 0.54\n",
      "Epoch 16: Loss = 1.0916 Acc = 0.37 Test_Loss = 1.2191 Test_Acc = 0.56\n",
      "Epoch 17: Loss = 1.0940 Acc = 0.37 Test_Loss = 1.5304 Test_Acc = 0.55\n",
      "Epoch 18: Loss = 1.1284 Acc = 0.37 Test_Loss = 52.9846 Test_Acc = 0.12\n",
      "Epoch 19: Loss = 1.2359 Acc = 0.35 Test_Loss = 1.0305 Test_Acc = 0.64\n",
      "Epoch 20: Loss = 1.0483 Acc = 0.38 Test_Loss = 1.0453 Test_Acc = 0.64\n",
      "Epoch 21: Loss = 0.9984 Acc = 0.40 Test_Loss = 1.2333 Test_Acc = 0.58\n",
      "Epoch 22: Loss = 0.9631 Acc = 0.40 Test_Loss = 1.0121 Test_Acc = 0.66\n",
      "Epoch 23: Loss = 0.9152 Acc = 0.41 Test_Loss = 0.8595 Test_Acc = 0.70\n",
      "Epoch 24: Loss = 0.8724 Acc = 0.42 Test_Loss = 34.4127 Test_Acc = 0.54\n",
      "Epoch 25: Loss = 0.9339 Acc = 0.40 Test_Loss = 0.9589 Test_Acc = 0.67\n",
      "Epoch 26: Loss = 0.8644 Acc = 0.42 Test_Loss = 0.9534 Test_Acc = 0.68\n",
      "Epoch 27: Loss = 0.8105 Acc = 0.43 Test_Loss = 0.8333 Test_Acc = 0.72\n",
      "=========================Complete 2 dataloader=========================\n"
     ]
    },
    {
     "output_type": "stream",
     "name": "stderr",
     "text": [
      "Using cache found in C:\\Users\\Kyle/.cache\\torch\\hub\\pytorch_vision_v0.10.0\n",
      "Using cache found in C:\\Users\\Kyle/.cache\\torch\\hub\\pytorch_vision_v0.10.0\n"
     ]
    },
    {
     "output_type": "stream",
     "name": "stdout",
     "text": [
      "Epoch  1: Loss = 1.6588 Acc = 0.34 Test_Loss = 1.4882 Test_Acc = 0.47\n",
      "Epoch  2: Loss = 1.2508 Acc = 0.44 Test_Loss = 1.3828 Test_Acc = 0.53\n",
      "Epoch  3: Loss = 1.0842 Acc = 0.49 Test_Loss = 1.2985 Test_Acc = 0.56\n",
      "Epoch  4: Loss = 0.9957 Acc = 0.52 Test_Loss = 1.1050 Test_Acc = 0.60\n",
      "Epoch  5: Loss = 0.9282 Acc = 0.54 Test_Loss = 1.0957 Test_Acc = 0.62\n",
      "Epoch  6: Loss = 0.8575 Acc = 0.56 Test_Loss = 1.0068 Test_Acc = 0.65\n",
      "Epoch  7: Loss = 0.8160 Acc = 0.57 Test_Loss = 0.9515 Test_Acc = 0.68\n",
      "Epoch  8: Loss = 0.7755 Acc = 0.58 Test_Loss = 1.2426 Test_Acc = 0.60\n",
      "Epoch  9: Loss = 0.7390 Acc = 0.59 Test_Loss = 1.1695 Test_Acc = 0.63\n",
      "Epoch 10: Loss = 0.7133 Acc = 0.60 Test_Loss = 0.9776 Test_Acc = 0.67\n",
      "Epoch 11: Loss = 0.6834 Acc = 0.61 Test_Loss = 0.7875 Test_Acc = 0.74\n",
      "Epoch 12: Loss = 0.6716 Acc = 0.61 Test_Loss = 1.4136 Test_Acc = 0.58\n",
      "Epoch 13: Loss = 0.6403 Acc = 0.62 Test_Loss = 0.7686 Test_Acc = 0.73\n",
      "Epoch 14: Loss = 0.6188 Acc = 0.63 Test_Loss = 0.7068 Test_Acc = 0.75\n",
      "Epoch 15: Loss = 0.5961 Acc = 0.63 Test_Loss = 0.7581 Test_Acc = 0.74\n",
      "============================================================\n",
      "Epoch  1: Loss = 1.9622 Acc = 0.26 Test_Loss = 1.6538 Test_Acc = 0.44\n",
      "Epoch  2: Loss = 1.5880 Acc = 0.35 Test_Loss = 1.8951 Test_Acc = 0.37\n",
      "Epoch  3: Loss = 1.5063 Acc = 0.37 Test_Loss = 1.7056 Test_Acc = 0.37\n",
      "Epoch  4: Loss = 1.4656 Acc = 0.39 Test_Loss = 1.5175 Test_Acc = 0.47\n",
      "Epoch  5: Loss = 1.3050 Acc = 0.43 Test_Loss = 2.2910 Test_Acc = 0.32\n",
      "Epoch  6: Loss = 1.4268 Acc = 0.40 Test_Loss = 3.8991 Test_Acc = 0.34\n",
      "Epoch  7: Loss = 1.4691 Acc = 0.39 Test_Loss = 1.3600 Test_Acc = 0.55\n",
      "Epoch  8: Loss = 1.3847 Acc = 0.41 Test_Loss = 1.5967 Test_Acc = 0.45\n",
      "Epoch  9: Loss = 1.3385 Acc = 0.42 Test_Loss = 1.1784 Test_Acc = 0.58\n",
      "Epoch 10: Loss = 1.1521 Acc = 0.47 Test_Loss = 1.3255 Test_Acc = 0.59\n",
      "Epoch 11: Loss = 1.1596 Acc = 0.48 Test_Loss = 1.3459 Test_Acc = 0.57\n",
      "Epoch 12: Loss = 1.3214 Acc = 0.43 Test_Loss = 1.4169 Test_Acc = 0.55\n",
      "Epoch 13: Loss = 1.4505 Acc = 0.39 Test_Loss = 1.3291 Test_Acc = 0.52\n",
      "Epoch 14: Loss = 1.2982 Acc = 0.43 Test_Loss = 1.1804 Test_Acc = 0.59\n",
      "Epoch 15: Loss = 1.3715 Acc = 0.42 Test_Loss = 2.5992 Test_Acc = 0.22\n",
      "Epoch 16: Loss = 1.6207 Acc = 0.34 Test_Loss = 1.3393 Test_Acc = 0.53\n",
      "Epoch 17: Loss = 1.3472 Acc = 0.42 Test_Loss = 11.5066 Test_Acc = 0.35\n",
      "Epoch 18: Loss = 1.4027 Acc = 0.41 Test_Loss = 1.2246 Test_Acc = 0.58\n",
      "Epoch 19: Loss = 1.2452 Acc = 0.45 Test_Loss = 2.3449 Test_Acc = 0.46\n",
      "Epoch 20: Loss = 1.2796 Acc = 0.44 Test_Loss = 1.1111 Test_Acc = 0.62\n",
      "Epoch 21: Loss = 1.1146 Acc = 0.48 Test_Loss = 1.0998 Test_Acc = 0.63\n",
      "Epoch 22: Loss = 1.0546 Acc = 0.50 Test_Loss = 1.6334 Test_Acc = 0.44\n",
      "Epoch 23: Loss = 1.2218 Acc = 0.46 Test_Loss = 1.1556 Test_Acc = 0.61\n",
      "Epoch 24: Loss = 1.0990 Acc = 0.49 Test_Loss = 1.1706 Test_Acc = 0.61\n",
      "Epoch 25: Loss = 1.0455 Acc = 0.51 Test_Loss = 1.6204 Test_Acc = 0.48\n",
      "Epoch 26: Loss = 0.9599 Acc = 0.53 Test_Loss = 1.1384 Test_Acc = 0.63\n",
      "Epoch 27: Loss = 0.8798 Acc = 0.55 Test_Loss = 0.8504 Test_Acc = 0.70\n",
      "=========================Complete 3 dataloader=========================\n"
     ]
    },
    {
     "output_type": "stream",
     "name": "stderr",
     "text": [
      "Using cache found in C:\\Users\\Kyle/.cache\\torch\\hub\\pytorch_vision_v0.10.0\n",
      "Using cache found in C:\\Users\\Kyle/.cache\\torch\\hub\\pytorch_vision_v0.10.0\n"
     ]
    },
    {
     "output_type": "stream",
     "name": "stdout",
     "text": [
      "Epoch  1: Loss = 1.6002 Acc = 0.44 Test_Loss = 1.5063 Test_Acc = 0.48\n",
      "Epoch  2: Loss = 1.1886 Acc = 0.57 Test_Loss = 1.3700 Test_Acc = 0.51\n",
      "Epoch  3: Loss = 1.0302 Acc = 0.63 Test_Loss = 1.5914 Test_Acc = 0.46\n",
      "Epoch  4: Loss = 0.9372 Acc = 0.67 Test_Loss = 1.3025 Test_Acc = 0.57\n",
      "Epoch  5: Loss = 0.8658 Acc = 0.69 Test_Loss = 1.0282 Test_Acc = 0.64\n",
      "Epoch  6: Loss = 0.8019 Acc = 0.72 Test_Loss = 0.9798 Test_Acc = 0.67\n",
      "Epoch  7: Loss = 0.7547 Acc = 0.73 Test_Loss = 0.8598 Test_Acc = 0.71\n",
      "Epoch  8: Loss = 0.7095 Acc = 0.75 Test_Loss = 0.9659 Test_Acc = 0.68\n",
      "Epoch  9: Loss = 0.6769 Acc = 0.76 Test_Loss = 0.7308 Test_Acc = 0.75\n",
      "Epoch 10: Loss = 0.6425 Acc = 0.78 Test_Loss = 0.6566 Test_Acc = 0.77\n",
      "Epoch 11: Loss = 0.6241 Acc = 0.78 Test_Loss = 0.6686 Test_Acc = 0.77\n",
      "Epoch 12: Loss = 0.5897 Acc = 0.79 Test_Loss = 0.7002 Test_Acc = 0.76\n",
      "Epoch 13: Loss = 0.5748 Acc = 0.80 Test_Loss = 1.1594 Test_Acc = 0.65\n",
      "Epoch 14: Loss = 0.5589 Acc = 0.81 Test_Loss = 0.6676 Test_Acc = 0.77\n",
      "Epoch 15: Loss = 0.5341 Acc = 0.81 Test_Loss = 0.8467 Test_Acc = 0.74\n",
      "============================================================\n",
      "Epoch  1: Loss = 1.9105 Acc = 0.34 Test_Loss = 1.5170 Test_Acc = 0.45\n",
      "Epoch  2: Loss = 1.5427 Acc = 0.45 Test_Loss = 1.4899 Test_Acc = 0.46\n",
      "Epoch  3: Loss = 1.5781 Acc = 0.43 Test_Loss = 1.3891 Test_Acc = 0.49\n",
      "Epoch  4: Loss = 1.4245 Acc = 0.50 Test_Loss = 2.2263 Test_Acc = 0.51\n",
      "Epoch  5: Loss = 1.3385 Acc = 0.53 Test_Loss = 1.1952 Test_Acc = 0.59\n",
      "Epoch  6: Loss = 1.2067 Acc = 0.58 Test_Loss = 1.2671 Test_Acc = 0.55\n",
      "Epoch  7: Loss = 1.1177 Acc = 0.61 Test_Loss = 2.4820 Test_Acc = 0.37\n",
      "Epoch  8: Loss = 1.5416 Acc = 0.47 Test_Loss = 1.4449 Test_Acc = 0.55\n",
      "Epoch  9: Loss = 1.2231 Acc = 0.57 Test_Loss = 1.3164 Test_Acc = 0.58\n",
      "Epoch 10: Loss = 1.1055 Acc = 0.61 Test_Loss = 1.0669 Test_Acc = 0.64\n",
      "Epoch 11: Loss = 1.0825 Acc = 0.63 Test_Loss = 1.0524 Test_Acc = 0.65\n",
      "Epoch 12: Loss = 0.9753 Acc = 0.66 Test_Loss = 1.1364 Test_Acc = 0.65\n",
      "Epoch 13: Loss = 1.1078 Acc = 0.62 Test_Loss = 1.4948 Test_Acc = 0.52\n",
      "Epoch 14: Loss = 1.1280 Acc = 0.61 Test_Loss = 11.4161 Test_Acc = 0.53\n",
      "Epoch 15: Loss = 0.9920 Acc = 0.66 Test_Loss = 0.9679 Test_Acc = 0.68\n",
      "Epoch 16: Loss = 0.9032 Acc = 0.69 Test_Loss = 0.9031 Test_Acc = 0.71\n",
      "Epoch 17: Loss = 0.8392 Acc = 0.71 Test_Loss = 10.3183 Test_Acc = 0.55\n",
      "Epoch 18: Loss = 0.8365 Acc = 0.72 Test_Loss = 0.9095 Test_Acc = 0.70\n",
      "Epoch 19: Loss = 0.8116 Acc = 0.72 Test_Loss = 0.9275 Test_Acc = 0.73\n",
      "Epoch 20: Loss = 0.9451 Acc = 0.69 Test_Loss = 0.8709 Test_Acc = 0.71\n",
      "Epoch 21: Loss = 0.8437 Acc = 0.71 Test_Loss = 0.8418 Test_Acc = 0.72\n",
      "Epoch 22: Loss = 0.7527 Acc = 0.74 Test_Loss = 0.7465 Test_Acc = 0.74\n",
      "Epoch 23: Loss = 0.9365 Acc = 0.69 Test_Loss = 1.4314 Test_Acc = 0.51\n",
      "Epoch 24: Loss = 0.9719 Acc = 0.67 Test_Loss = 1.3387 Test_Acc = 0.57\n",
      "Epoch 25: Loss = 1.4033 Acc = 0.52 Test_Loss = 1.1199 Test_Acc = 0.62\n",
      "Epoch 26: Loss = 0.9370 Acc = 0.67 Test_Loss = 0.8631 Test_Acc = 0.70\n",
      "Epoch 27: Loss = 0.7885 Acc = 0.72 Test_Loss = 0.8402 Test_Acc = 0.71\n",
      "=========================Complete 4 dataloader=========================\n",
      "Done!\n"
     ]
    }
   ],
   "metadata": {
    "scrolled": true
   }
  },
  {
   "cell_type": "code",
   "execution_count": 214,
   "source": [
    "# Training ResNet50 from datasize 0.2 to datasize 1.0\r\n",
    "big_model_acc = []\r\n",
    "\r\n",
    "for idx, dataloader in enumerate(dataloaders):\r\n",
    "    model_big = torch.hub.load('pytorch/vision:v0.10.0', 'resnet50', weights=None)\r\n",
    "    model_big.fc.out_features = 10\r\n",
    "    model_big = model_big.to(device)\r\n",
    "    loss_fn = nn.CrossEntropyLoss()\r\n",
    "    optimizer_big = torch.optim.Adam(model_big.parameters(), lr=1e-3)\r\n",
    "    early_stopper = EarlyStopper(patience=3, min_delta=10)\r\n",
    "    \r\n",
    "    for epoch in range(100):\r\n",
    "        train_loss, train_acc = train(dataloader, model_big, loss_fn, optimizer_big)\r\n",
    "        test_loss, test_acc = test(valid_dataloader, model_big, loss_fn)\r\n",
    "        if early_stopper.early_stop(test_loss):\r\n",
    "            break\r\n",
    "        if epoch % 10 == 0:\r\n",
    "            print(f\"Epoch {epoch + 1:2d}: Loss = {train_loss:.4f} Acc = {train_acc:.2f} Test_Loss = {test_loss:.4f} Test_Acc = {test_acc:.2f}\")\r\n",
    "    print(f\"Epoch {epoch + 1:2d}: Loss = {train_loss:.4f} Acc = {train_acc:.2f} Test_Loss = {test_loss:.4f} Test_Acc = {test_acc:.2f}\")\r\n",
    "    big_model_acc.append(test_acc)\r\n",
    "    print(\"=\"*25 + \"Complete \"+str(idx+1)+\" dataloader\"+\"=\"*25)\r\n",
    "    \r\n",
    "print(\"Done!\")"
   ],
   "outputs": [
    {
     "output_type": "stream",
     "name": "stderr",
     "text": [
      "Using cache found in C:\\Users\\Kyle/.cache\\torch\\hub\\pytorch_vision_v0.10.0\n"
     ]
    },
    {
     "output_type": "stream",
     "name": "stdout",
     "text": [
      "Epoch  1: Loss = 2.5130 Acc = 0.04 Test_Loss = 2.3449 Test_Acc = 0.18\n",
      "Epoch 11: Loss = 1.5348 Acc = 0.09 Test_Loss = 1.4754 Test_Acc = 0.48\n",
      "Epoch 21: Loss = 1.3288 Acc = 0.11 Test_Loss = 1.3747 Test_Acc = 0.52\n",
      "Epoch 31: Loss = 1.3250 Acc = 0.11 Test_Loss = 1.2612 Test_Acc = 0.54\n",
      "Epoch 41: Loss = 1.1796 Acc = 0.12 Test_Loss = 1.3153 Test_Acc = 0.57\n",
      "Epoch 51: Loss = 1.2902 Acc = 0.11 Test_Loss = 10.0008 Test_Acc = 0.32\n",
      "Epoch 61: Loss = 1.5858 Acc = 0.09 Test_Loss = 1.4073 Test_Acc = 0.48\n",
      "Epoch 71: Loss = 1.4562 Acc = 0.10 Test_Loss = 2.5466 Test_Acc = 0.50\n",
      "Epoch 81: Loss = 1.3360 Acc = 0.11 Test_Loss = 8.3978 Test_Acc = 0.48\n",
      "Epoch 91: Loss = 1.3137 Acc = 0.11 Test_Loss = 1.1918 Test_Acc = 0.58\n",
      "Epoch 100: Loss = 1.0213 Acc = 0.13 Test_Loss = 1.1277 Test_Acc = 0.60\n",
      "=========================Complete 1 dataloader=========================\n"
     ]
    },
    {
     "output_type": "stream",
     "name": "stderr",
     "text": [
      "Using cache found in C:\\Users\\Kyle/.cache\\torch\\hub\\pytorch_vision_v0.10.0\n"
     ]
    },
    {
     "output_type": "stream",
     "name": "stdout",
     "text": [
      "Epoch  1: Loss = 2.1638 Acc = 0.11 Test_Loss = 1.8202 Test_Acc = 0.36\n",
      "Epoch 11: Loss = 1.3263 Acc = 0.22 Test_Loss = 14.9251 Test_Acc = 0.37\n",
      "Epoch 21: Loss = 1.1400 Acc = 0.24 Test_Loss = 1.0761 Test_Acc = 0.62\n",
      "Epoch 31: Loss = 0.9451 Acc = 0.27 Test_Loss = 0.9994 Test_Acc = 0.65\n",
      "Epoch 41: Loss = 0.9676 Acc = 0.26 Test_Loss = 0.9150 Test_Acc = 0.69\n",
      "Epoch 51: Loss = 1.0674 Acc = 0.25 Test_Loss = 0.9965 Test_Acc = 0.69\n",
      "Epoch 61: Loss = 1.1253 Acc = 0.24 Test_Loss = 1.1517 Test_Acc = 0.60\n",
      "Epoch 71: Loss = 0.7721 Acc = 0.29 Test_Loss = 0.8148 Test_Acc = 0.72\n",
      "Epoch 81: Loss = 0.7644 Acc = 0.29 Test_Loss = 0.7230 Test_Acc = 0.75\n",
      "Epoch 91: Loss = 0.9507 Acc = 0.27 Test_Loss = 1.0059 Test_Acc = 0.68\n",
      "Epoch 100: Loss = 0.7503 Acc = 0.30 Test_Loss = 0.7705 Test_Acc = 0.73\n",
      "=========================Complete 2 dataloader=========================\n"
     ]
    },
    {
     "output_type": "stream",
     "name": "stderr",
     "text": [
      "Using cache found in C:\\Users\\Kyle/.cache\\torch\\hub\\pytorch_vision_v0.10.0\n"
     ]
    },
    {
     "output_type": "stream",
     "name": "stdout",
     "text": [
      "Epoch  1: Loss = 2.0702 Acc = 0.18 Test_Loss = 1.8240 Test_Acc = 0.39\n",
      "Epoch 11: Loss = 1.1203 Acc = 0.36 Test_Loss = 1.2093 Test_Acc = 0.58\n",
      "Epoch 21: Loss = 0.8592 Acc = 0.42 Test_Loss = 1.3750 Test_Acc = 0.55\n",
      "Epoch 31: Loss = 0.6410 Acc = 0.47 Test_Loss = 1.3000 Test_Acc = 0.59\n",
      "Epoch 41: Loss = 0.7151 Acc = 0.45 Test_Loss = 1.1301 Test_Acc = 0.64\n",
      "Epoch 51: Loss = 0.6093 Acc = 0.47 Test_Loss = 0.6592 Test_Acc = 0.77\n",
      "Epoch 61: Loss = 0.4846 Acc = 0.50 Test_Loss = 0.6310 Test_Acc = 0.79\n",
      "Epoch 71: Loss = 0.4753 Acc = 0.50 Test_Loss = 0.5671 Test_Acc = 0.81\n",
      "Epoch 81: Loss = 0.3986 Acc = 0.52 Test_Loss = 0.5500 Test_Acc = 0.82\n",
      "Epoch 91: Loss = 0.3384 Acc = 0.53 Test_Loss = 0.6030 Test_Acc = 0.80\n",
      "Epoch 100: Loss = 0.2880 Acc = 0.54 Test_Loss = 0.5223 Test_Acc = 0.84\n",
      "=========================Complete 3 dataloader=========================\n"
     ]
    },
    {
     "output_type": "stream",
     "name": "stderr",
     "text": [
      "Using cache found in C:\\Users\\Kyle/.cache\\torch\\hub\\pytorch_vision_v0.10.0\n"
     ]
    },
    {
     "output_type": "stream",
     "name": "stdout",
     "text": [
      "Epoch  1: Loss = 1.9687 Acc = 0.25 Test_Loss = 1.6445 Test_Acc = 0.42\n",
      "Epoch 11: Loss = 1.3838 Acc = 0.42 Test_Loss = 1.4551 Test_Acc = 0.48\n",
      "Epoch 21: Loss = 0.8564 Acc = 0.56 Test_Loss = 1.0994 Test_Acc = 0.63\n",
      "Epoch 31: Loss = 0.8668 Acc = 0.56 Test_Loss = 0.8180 Test_Acc = 0.71\n",
      "Epoch 41: Loss = 0.9184 Acc = 0.54 Test_Loss = 0.8358 Test_Acc = 0.71\n",
      "Epoch 51: Loss = 0.5278 Acc = 0.65 Test_Loss = 0.6609 Test_Acc = 0.78\n",
      "Epoch 61: Loss = 0.4247 Acc = 0.68 Test_Loss = 0.5519 Test_Acc = 0.81\n",
      "Epoch 71: Loss = 0.4090 Acc = 0.68 Test_Loss = 0.6408 Test_Acc = 0.79\n",
      "Epoch 81: Loss = 0.3229 Acc = 0.71 Test_Loss = 0.6106 Test_Acc = 0.81\n",
      "Epoch 91: Loss = 0.2677 Acc = 0.72 Test_Loss = 0.5373 Test_Acc = 0.83\n",
      "Epoch 100: Loss = 0.2189 Acc = 0.74 Test_Loss = 0.5403 Test_Acc = 0.84\n",
      "=========================Complete 4 dataloader=========================\n"
     ]
    },
    {
     "output_type": "stream",
     "name": "stderr",
     "text": [
      "Using cache found in C:\\Users\\Kyle/.cache\\torch\\hub\\pytorch_vision_v0.10.0\n"
     ]
    },
    {
     "output_type": "stream",
     "name": "stdout",
     "text": [
      "Epoch  1: Loss = 1.9228 Acc = 0.34 Test_Loss = 1.6023 Test_Acc = 0.42\n",
      "Epoch 11: Loss = 1.2357 Acc = 0.57 Test_Loss = 1.4845 Test_Acc = 0.52\n",
      "Epoch 21: Loss = 0.8317 Acc = 0.71 Test_Loss = 3.0241 Test_Acc = 0.42\n",
      "Epoch 31: Loss = 1.1464 Acc = 0.60 Test_Loss = 1.2976 Test_Acc = 0.57\n",
      "Epoch 41: Loss = 0.5993 Acc = 0.79 Test_Loss = 0.6351 Test_Acc = 0.79\n",
      "Epoch 51: Loss = 0.4193 Acc = 0.85 Test_Loss = 0.6512 Test_Acc = 0.79\n",
      "Epoch 61: Loss = 0.3702 Acc = 0.87 Test_Loss = 0.5666 Test_Acc = 0.82\n",
      "Epoch 71: Loss = 0.4063 Acc = 0.86 Test_Loss = 0.5658 Test_Acc = 0.81\n",
      "Epoch 81: Loss = 0.2420 Acc = 0.91 Test_Loss = 0.6836 Test_Acc = 0.83\n",
      "Epoch 91: Loss = 0.1993 Acc = 0.93 Test_Loss = 0.7368 Test_Acc = 0.83\n",
      "Epoch 100: Loss = 0.1630 Acc = 0.94 Test_Loss = 0.6111 Test_Acc = 0.84\n",
      "=========================Complete 5 dataloader=========================\n",
      "Done!\n"
     ]
    }
   ],
   "metadata": {
    "scrolled": false
   }
  },
  {
   "cell_type": "code",
   "execution_count": 215,
   "source": [
    "dataset_size = [0.2, 0.4, 0.6, 0.8, 1.0]\r\n",
    "\r\n",
    "plt.plot(dataset_size, small_model_acc, label='Small Model')\r\n",
    "plt.plot(dataset_size, big_model_acc, label = 'Big Model')\r\n",
    "plt.title('Dataset Size vs. Accuracy')\r\n",
    "plt.ylabel('Accuracy')\r\n",
    "plt.xlabel('Dataset Size')\r\n",
    "plt.legend(loc=\"lower right\")\r\n",
    "\r\n",
    "plt.show()"
   ],
   "outputs": [
    {
     "output_type": "display_data",
     "data": {
      "text/plain": [
       "<Figure size 640x480 with 1 Axes>"
      ],
      "image/png": "[encoded data removed]"
     },
     "metadata": {}
    }
   ],
   "metadata": {}
  },
  {
   "cell_type": "markdown",
   "source": [
    "## Codes for Problem 3"
   ],
   "metadata": {
    "id": "9iqBGAUm6b5W"
   }
  },
  {
   "cell_type": "code",
   "execution_count": 219,
   "source": [
    "# TODO: Try to achieve the best performance given all training data using whatever model and training strategy.\r\n",
    "\r\n",
    "# Try early stop during training and epochs=200\r\n",
    "# Use train_dataloader\r\n",
    "\r\n",
    "model_big = torch.hub.load('pytorch/vision:v0.10.0', 'resnet50', weights='IMAGENET1K_V1')\r\n",
    "model_big.fc.out_features = 10\r\n",
    "model_big = model_big.to(device)\r\n",
    "loss_fn = nn.CrossEntropyLoss()\r\n",
    "optimizer_big = torch.optim.Adam(model_big.parameters(), lr=1e-3)\r\n",
    "early_stopper = EarlyStopper(patience=3, min_delta=10)\r\n",
    "\r\n",
    "for epoch in range(100):\r\n",
    "    train_loss, train_acc = train(half_train_dataloader, model_big, loss_fn, optimizer_big)\r\n",
    "    test_loss, test_acc = test(valid_dataloader, model_big, loss_fn)\r\n",
    "    if early_stopper.early_stop(test_loss):\r\n",
    "        break\r\n",
    "    if epoch % 10 == 0:\r\n",
    "        print(f\"Epoch {epoch + 1:2d}: Loss = {train_loss:.4f} Acc = {train_acc:.2f} Test_Loss = {test_loss:.4f} Test_Acc = {test_acc:.2f}\")\r\n",
    "print(f\"Epoch {epoch + 1:2d}: Loss = {train_loss:.4f} Acc = {train_acc:.2f} Test_Loss = {test_loss:.4f} Test_Acc = {test_acc:.2f}\")\r\n",
    "print(\"Done!\")"
   ],
   "outputs": [
    {
     "output_type": "stream",
     "name": "stderr",
     "text": [
      "Using cache found in C:\\Users\\Kyle/.cache\\torch\\hub\\pytorch_vision_v0.10.0\n"
     ]
    },
    {
     "output_type": "stream",
     "name": "stdout",
     "text": [
      "Epoch  1: Loss = 1.4693 Acc = 0.29 Test_Loss = 0.8863 Test_Acc = 0.72\n",
      "Epoch 11: Loss = 0.4278 Acc = 0.43 Test_Loss = 0.4733 Test_Acc = 0.84\n",
      "Epoch 21: Loss = 0.3274 Acc = 0.44 Test_Loss = 0.4781 Test_Acc = 0.84\n",
      "Epoch 31: Loss = 0.5990 Acc = 0.40 Test_Loss = 0.5952 Test_Acc = 0.80\n",
      "Epoch 41: Loss = 0.2940 Acc = 0.45 Test_Loss = 0.4776 Test_Acc = 0.84\n",
      "Epoch 51: Loss = 0.2393 Acc = 0.46 Test_Loss = 0.4377 Test_Acc = 0.86\n",
      "Epoch 61: Loss = 0.2124 Acc = 0.46 Test_Loss = 0.4442 Test_Acc = 0.86\n",
      "Epoch 71: Loss = 0.5015 Acc = 0.41 Test_Loss = 0.9344 Test_Acc = 0.70\n",
      "Epoch 81: Loss = 0.1839 Acc = 0.47 Test_Loss = 0.4514 Test_Acc = 0.87\n",
      "Epoch 91: Loss = 0.1496 Acc = 0.47 Test_Loss = 0.4555 Test_Acc = 0.87\n",
      "Epoch 100: Loss = 0.1368 Acc = 0.48 Test_Loss = 0.4938 Test_Acc = 0.86\n",
      "Done!\n"
     ]
    }
   ],
   "metadata": {
    "id": "5SBFMzPT6cP4"
   }
  },
  {
   "cell_type": "code",
   "execution_count": 217,
   "source": [
    "# model with weight=IMAGENET1K_V1\r\n",
    "\r\n",
    "model_big = torch.hub.load('pytorch/vision:v0.10.0', 'resnet50', weights='IMAGENET1K_V1')\r\n",
    "model_big.fc.out_features = 10\r\n",
    "model_big = model_big.to(device)\r\n",
    "loss_fn = nn.CrossEntropyLoss()\r\n",
    "optimizer_big = torch.optim.Adam(model_big.parameters(), lr=1e-3)\r\n",
    "\r\n",
    "# sixteenth_train_dataloader\r\n",
    "for epoch in range(15):\r\n",
    "    train_loss, train_acc = train(sixteenth_train_dataloader, model_big, loss_fn, optimizer_big)\r\n",
    "    test_loss, test_acc = test(valid_dataloader, model_big, loss_fn)\r\n",
    "    print(f\"Epoch {epoch + 1:2d}: Loss = {train_loss:.4f} Acc = {train_acc:.2f} Test_Loss = {test_loss:.4f} Test_Acc = {test_acc:.2f}\")\r\n",
    "print(\"Done!\")"
   ],
   "outputs": [
    {
     "output_type": "stream",
     "name": "stderr",
     "text": [
      "Using cache found in C:\\Users\\Kyle/.cache\\torch\\hub\\pytorch_vision_v0.10.0\n"
     ]
    },
    {
     "output_type": "stream",
     "name": "stdout",
     "text": [
      "Epoch  1: Loss = 3.7380 Acc = 0.02 Test_Loss = 19.5495 Test_Acc = 0.22\n",
      "Epoch  2: Loss = 1.4233 Acc = 0.03 Test_Loss = 1.9448 Test_Acc = 0.49\n",
      "Epoch  3: Loss = 1.2347 Acc = 0.03 Test_Loss = 1.2518 Test_Acc = 0.59\n",
      "Epoch  4: Loss = 1.1441 Acc = 0.04 Test_Loss = 1.0542 Test_Acc = 0.64\n",
      "Epoch  5: Loss = 1.0321 Acc = 0.04 Test_Loss = 1.0304 Test_Acc = 0.65\n",
      "Epoch  6: Loss = 0.9337 Acc = 0.04 Test_Loss = 0.9595 Test_Acc = 0.67\n",
      "Epoch  7: Loss = 0.9145 Acc = 0.04 Test_Loss = 0.8327 Test_Acc = 0.72\n",
      "Epoch  8: Loss = 0.8551 Acc = 0.04 Test_Loss = 0.8325 Test_Acc = 0.72\n",
      "Epoch  9: Loss = 0.8417 Acc = 0.04 Test_Loss = 0.8528 Test_Acc = 0.71\n",
      "Epoch 10: Loss = 0.7946 Acc = 0.05 Test_Loss = 0.7489 Test_Acc = 0.75\n",
      "Epoch 11: Loss = 0.7683 Acc = 0.05 Test_Loss = 0.8558 Test_Acc = 0.71\n",
      "Epoch 12: Loss = 0.8020 Acc = 0.05 Test_Loss = 0.8307 Test_Acc = 0.72\n",
      "Epoch 13: Loss = 0.7854 Acc = 0.04 Test_Loss = 0.8347 Test_Acc = 0.72\n",
      "Epoch 14: Loss = 0.7941 Acc = 0.05 Test_Loss = 0.7996 Test_Acc = 0.73\n",
      "Epoch 15: Loss = 0.7111 Acc = 0.05 Test_Loss = 0.7131 Test_Acc = 0.75\n",
      "Done!\n"
     ]
    }
   ],
   "metadata": {
    "id": "MemcOLK_4ULJ"
   }
  },
  {
   "cell_type": "markdown",
   "source": [
    "## Problems"
   ],
   "metadata": {
    "id": "nTSafuelpRYJ"
   }
  },
  {
   "cell_type": "markdown",
   "source": [
    "1. (30%) Finish the rest of the codes for Problem 1 and Problem 2 according to the hint. (2 code cells in total.)\n",
    "2. Train small model (resnet18) and big model (resnet50) from scratch on `sixteenth_train_dataloader`, `half_train_dataloader`, and `train_dataloader` respectively.\n",
    "3. (30%) Achieve the best performance given all training data using whatever model and training strategy.  \n",
    "  (You cannot use the model that was pretrained on CIFAR10)\n",
    "\n"
   ],
   "metadata": {
    "id": "cZctBdkurpQS"
   }
  },
  {
   "cell_type": "markdown",
   "source": [
    "## Discussion"
   ],
   "metadata": {
    "id": "786fQTdk0msC"
   }
  },
  {
   "cell_type": "markdown",
   "source": [
    "\n",
    "- (30%) The relationship between the accuracy, model size, and the training dataset size.  \n",
    "    (Total 6 models. Small model trains on the sixteenth, half, and all data. Big model trains on the sixteenth, half, and all data.)\n",
    "    - 在 epochs = 15 的形況下，考慮 dataset size， size 越大則 test accuaracy 越好。這和我們預想的符合，不論是在 small model or big model 都有這樣的結果。\n",
    "    - 然而在相同的 dataset size 中， small model 的表現比 big model 較好。這可能是因為我們的 epochs 太小，使得 ResNet50 還沒充分訓練完。\n",
    "    - | | ResNet18| ResNet50|\n",
    "      | ---| ---|---|\n",
    "      | Sixteenth| 0.4 | 0.44 |\n",
    "      | Half | 0.69 | 0.56 |\n",
    "      | Full | 0.74 | 0.60|\n",
    "      \n",
    "    - 當 epochs = 100 時，我們用 half_train_dataloader 來訓練 ResNet50，test accuracy 為 0.81，明顯比 ResNet18 好。\n",
    "      \n",
    "      \n",
    "- (10%) What if we train the ResNet with ImageNet initialized weights (`weights=\"IMAGENET1K_V1\"`), how would the relationship change?\n",
    "    - 可以發現在 `sixteenth_train_dataloader` 上，一樣跑 epochs = 15， test accuracy 明顯好很多，甚至比用 Full 還要好!\n",
    "    - | | ResNet50 | ResNet50 (with `weight=IMAGENET1K_V1`) |\n",
    "      |-| -------- | ---------------------------------------|\n",
    "      | Sixteenth | 0.44 | 0.75 |\n",
    "      | Full | 0.6 | 0.86 |"
   ],
   "metadata": {
    "id": "xsd2yTmB0k5t"
   }
  },
  {
   "cell_type": "markdown",
   "source": [
    "## Credits"
   ],
   "metadata": {
    "id": "HWDxF-xIueMM"
   }
  },
  {
   "cell_type": "markdown",
   "source": [
    "1. [CIFAR10](https://www.cs.toronto.edu/~kriz/cifar.html)"
   ],
   "metadata": {
    "id": "2sXpmSj2ufkh"
   }
  },
  {
   "cell_type": "code",
   "execution_count": null,
   "source": [],
   "outputs": [],
   "metadata": {}
  }
 ],
 "metadata": {
  "accelerator": "GPU",
  "colab": {
   "collapsed_sections": [],
   "provenance": [],
   "toc_visible": true
  },
  "gpuClass": "standard",
  "kernelspec": {
   "name": "python3",
   "display_name": "Python 3.6.13 64-bit ('pytorch': conda)"
  },
  "language_info": {
   "codemirror_mode": {
    "name": "ipython",
    "version": 3
   },
   "file_extension": ".py",
   "mimetype": "text/x-python",
   "name": "python",
   "nbconvert_exporter": "python",
   "pygments_lexer": "ipython3",
   "version": "3.6.13"
  },
  "interpreter": {
   "hash": "71b71b123f4f9f0ec8a028979ae4fa380b64ac835e25e067feacb038fad71296"
  }
 },
 "nbformat": 4,
 "nbformat_minor": 1
}